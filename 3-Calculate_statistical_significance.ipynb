{
 "cells": [
  {
   "cell_type": "code",
   "execution_count": 12,
   "id": "540995cf-b756-4d20-939d-6a310ab5fb48",
   "metadata": {
    "tags": []
   },
   "outputs": [],
   "source": [
    "import xarray as xr\n",
    "import pandas as pd\n",
    "import numpy as np\n",
    "from pathlib import Path\n",
    "from scipy import stats\n",
    "from linearmodels import PanelOLS\n",
    "from tqdm.notebook import tqdm, trange"
   ]
  },
  {
   "cell_type": "code",
   "execution_count": 13,
   "id": "4f91e964-b70e-4db3-ab0c-17b271788f31",
   "metadata": {
    "tags": []
   },
   "outputs": [],
   "source": [
    "import dataclasses\n",
    "import typing as t\n",
    "\n",
    "import numpy as np\n",
    "import xarray as xr\n",
    "\n",
    "\n",
    "@dataclasses.dataclass\n",
    "class Region:\n",
    "    \"\"\"Region selector for spatially averaged metrics.\n",
    "\n",
    "    .apply() method is called before spatial averaging in the Metrics classes.\n",
    "    Region selection can be either applied as an operation on the dataset itself\n",
    "    or a weights dataset, typically the latitude weights. The latter option is\n",
    "    required to implement non-box regions without the use of .where() which would\n",
    "    clash with skipna=False used as default in the metrics. The way this is\n",
    "    implemented is by multiplying the input weights with a boolean weight dataset.\n",
    "\n",
    "    Since sometimes the dataset and sometimes the weights are modified, these must\n",
    "    be used together, most likely insice the _spatial_average function defined in\n",
    "    metrics.py.\n",
    "    \"\"\"\n",
    "\n",
    "    def apply(self, dataset: xr.Dataset) -> xr.Dataset:\n",
    "        \"\"\"Apply region selection to dataset and/or weights.\n",
    "\n",
    "        Args:\n",
    "          dataset: Spatial metric, i.e. RMSE\n",
    "          weights: Weights dataset, i.e. latitude weights\n",
    "\n",
    "        Returns:\n",
    "          dataset: Potentially modified (sliced) dataset.\n",
    "          weights: Potentially modified weights data array, to be used in\n",
    "          combination with dataset, e.g. in _spatial_average().\n",
    "        \"\"\"\n",
    "        raise NotImplementedError\n",
    "\n",
    "\n",
    "@dataclasses.dataclass\n",
    "class SliceRegion(Region):\n",
    "    \"\"\"Latitude-longitude box selection.\"\"\"\n",
    "\n",
    "    lat_slice: t.Optional[t.Union[slice, list[slice]]] = dataclasses.field(\n",
    "      default_factory=lambda: slice(None, None))\n",
    "    lon_slice: t.Optional[t.Union[slice, list[slice]]] = dataclasses.field(\n",
    "      default_factory=lambda: slice(None, None))\n",
    "\n",
    "    def apply(self, dataset: xr.Dataset) -> xr.Dataset:\n",
    "        \"\"\"Returns dataset sliced according to lat/lon_sliceparameters.\"\"\"\n",
    "        lats = (\n",
    "            self.lat_slice if isinstance(self.lat_slice, list) else [self.lat_slice])\n",
    "        lons = (\n",
    "            self.lon_slice if isinstance(self.lon_slice, list) else [self.lon_slice])\n",
    "\n",
    "        lats = xr.concat(\n",
    "            [dataset.latitude.sel(latitude=s) for s in lats], dim='latitude')\n",
    "        lons = xr.concat(\n",
    "            [dataset.longitude.sel(longitude=s) for s in lons], dim='longitude')\n",
    "\n",
    "        return dataset.sel(latitude=lats, longitude=lons)\n"
   ]
  },
  {
   "cell_type": "code",
   "execution_count": 14,
   "id": "a66c1ff3-7860-44b2-94de-658f1cd351ab",
   "metadata": {
    "tags": []
   },
   "outputs": [],
   "source": [
    "predefined_regions = {\n",
    "    'global': SliceRegion(),\n",
    "    'tropics': SliceRegion(lat_slice=slice(-20, 20)),\n",
    "    'extra-tropics': SliceRegion(\n",
    "      lat_slice=[slice(None, -20), slice(20, None)]\n",
    "    ),\n",
    "    'northern-hemisphere': SliceRegion(lat_slice=slice(20, None)),\n",
    "    'southern-hemisphere': SliceRegion(lat_slice=slice(None, -20)),\n",
    "    'europe': SliceRegion(\n",
    "      lat_slice=slice(35, 75),\n",
    "      lon_slice=[slice(360 - 12.5, None), slice(0, 42.5)],\n",
    "    ),\n",
    "    'north-america': SliceRegion(\n",
    "      lat_slice=slice(25, 60), lon_slice=slice(360 - 120, 360 - 75)\n",
    "    ),\n",
    "    'north-atlantic': SliceRegion(\n",
    "      lat_slice=slice(25, 65), lon_slice=slice(360 - 70, 360 - 10)\n",
    "    ),\n",
    "    'north-pacific': SliceRegion(\n",
    "      lat_slice=slice(25, 60), lon_slice=slice(145, 360 - 130)\n",
    "    ),\n",
    "    'east-asia': SliceRegion(\n",
    "      lat_slice=slice(25, 60), lon_slice=slice(102.5, 150)\n",
    "    ),\n",
    "    'ausnz': SliceRegion(\n",
    "      lat_slice=slice(-45, -12.5), lon_slice=slice(120, 175)\n",
    "    ),\n",
    "    'arctic': SliceRegion(lat_slice=slice(60, 90)),\n",
    "    'antarctic': SliceRegion(lat_slice=slice(-90, -60)),\n",
    "}"
   ]
  },
  {
   "cell_type": "code",
   "execution_count": 15,
   "id": "e86ff29d-80bd-4ba3-8bba-676bf98e5d13",
   "metadata": {
    "tags": []
   },
   "outputs": [],
   "source": [
    "work_dir = Path(\".\")"
   ]
  },
  {
   "cell_type": "code",
   "execution_count": 16,
   "id": "894d66e8-3ce8-484b-bc47-f522170c64c4",
   "metadata": {
    "tags": []
   },
   "outputs": [],
   "source": [
    "tp24h_era5_extremes = xr.open_dataset(\"Extremes/Extremes_tp24h_150_2020_era5.nc\")[\"events\"].load()\n",
    "tx24h_era5_extremes = xr.open_dataset(\"Extremes/Extremes_tx24h_150_2020_era5.nc\")[\"events\"].load()\n",
    "tx24h_hres0_extremes = xr.open_dataset(\"Extremes/Extremes_tx24h_150_2020_hres0.nc\")[\"events\"].load()"
   ]
  },
  {
   "cell_type": "code",
   "execution_count": 17,
   "id": "9c55e346-7199-4f00-b67e-a11414c3da4a",
   "metadata": {
    "tags": []
   },
   "outputs": [],
   "source": [
    "resolution = 1.50\n",
    "year = 2020\n",
    "lead_times = np.arange(1, 11)\n",
    "model_list_heatwave = [\"hres\", \"hres_ens\",  \"hres_ens\", \"hres_ens_mean\", \"era5-forecast\", \n",
    "                       \"pangu-oper\",\"graphcast-oper\", \"pangu\", \"graphcast\",\"fuxi\"]\n",
    "model_list_rainfall = [\"hres\", \"hres_ens\",  \"hres_ens_mean\", \"graphcast\", \"graphcast-oper\", \"fuxi\"]"
   ]
  },
  {
   "cell_type": "markdown",
   "id": "3e9ecc08-d5a9-406a-b593-ce839c47ca23",
   "metadata": {},
   "source": [
    "# Significance tests at the global and regional scale"
   ]
  },
  {
   "cell_type": "code",
   "execution_count": 18,
   "id": "5b611893-9b3e-40ac-a4b1-8ffb6856afac",
   "metadata": {
    "tags": []
   },
   "outputs": [
    {
     "data": {
      "application/vnd.jupyter.widget-view+json": {
       "model_id": "87310a00f0994c67814b478dcd13de2f",
       "version_major": 2,
       "version_minor": 0
      },
      "text/plain": [
       "  0%|          | 0/5 [00:00<?, ?it/s]"
      ]
     },
     "metadata": {},
     "output_type": "display_data"
    },
    {
     "data": {
      "application/vnd.jupyter.widget-view+json": {
       "model_id": "",
       "version_major": 2,
       "version_minor": 0
      },
      "text/plain": [
       "  0%|          | 0/10 [00:00<?, ?it/s]"
      ]
     },
     "metadata": {},
     "output_type": "display_data"
    },
    {
     "data": {
      "application/vnd.jupyter.widget-view+json": {
       "model_id": "",
       "version_major": 2,
       "version_minor": 0
      },
      "text/plain": [
       "  0%|          | 0/13 [00:00<?, ?it/s]"
      ]
     },
     "metadata": {},
     "output_type": "display_data"
    },
    {
     "data": {
      "application/vnd.jupyter.widget-view+json": {
       "model_id": "",
       "version_major": 2,
       "version_minor": 0
      },
      "text/plain": [
       "  0%|          | 0/13 [00:00<?, ?it/s]"
      ]
     },
     "metadata": {},
     "output_type": "display_data"
    },
    {
     "data": {
      "application/vnd.jupyter.widget-view+json": {
       "model_id": "",
       "version_major": 2,
       "version_minor": 0
      },
      "text/plain": [
       "  0%|          | 0/13 [00:00<?, ?it/s]"
      ]
     },
     "metadata": {},
     "output_type": "display_data"
    },
    {
     "data": {
      "application/vnd.jupyter.widget-view+json": {
       "model_id": "",
       "version_major": 2,
       "version_minor": 0
      },
      "text/plain": [
       "  0%|          | 0/13 [00:00<?, ?it/s]"
      ]
     },
     "metadata": {},
     "output_type": "display_data"
    },
    {
     "data": {
      "application/vnd.jupyter.widget-view+json": {
       "model_id": "",
       "version_major": 2,
       "version_minor": 0
      },
      "text/plain": [
       "  0%|          | 0/13 [00:00<?, ?it/s]"
      ]
     },
     "metadata": {},
     "output_type": "display_data"
    },
    {
     "data": {
      "application/vnd.jupyter.widget-view+json": {
       "model_id": "",
       "version_major": 2,
       "version_minor": 0
      },
      "text/plain": [
       "  0%|          | 0/13 [00:00<?, ?it/s]"
      ]
     },
     "metadata": {},
     "output_type": "display_data"
    },
    {
     "data": {
      "application/vnd.jupyter.widget-view+json": {
       "model_id": "",
       "version_major": 2,
       "version_minor": 0
      },
      "text/plain": [
       "  0%|          | 0/13 [00:00<?, ?it/s]"
      ]
     },
     "metadata": {},
     "output_type": "display_data"
    },
    {
     "data": {
      "application/vnd.jupyter.widget-view+json": {
       "model_id": "",
       "version_major": 2,
       "version_minor": 0
      },
      "text/plain": [
       "  0%|          | 0/13 [00:00<?, ?it/s]"
      ]
     },
     "metadata": {},
     "output_type": "display_data"
    },
    {
     "data": {
      "application/vnd.jupyter.widget-view+json": {
       "model_id": "",
       "version_major": 2,
       "version_minor": 0
      },
      "text/plain": [
       "  0%|          | 0/13 [00:00<?, ?it/s]"
      ]
     },
     "metadata": {},
     "output_type": "display_data"
    },
    {
     "data": {
      "application/vnd.jupyter.widget-view+json": {
       "model_id": "",
       "version_major": 2,
       "version_minor": 0
      },
      "text/plain": [
       "  0%|          | 0/13 [00:00<?, ?it/s]"
      ]
     },
     "metadata": {},
     "output_type": "display_data"
    },
    {
     "data": {
      "application/vnd.jupyter.widget-view+json": {
       "model_id": "",
       "version_major": 2,
       "version_minor": 0
      },
      "text/plain": [
       "  0%|          | 0/10 [00:00<?, ?it/s]"
      ]
     },
     "metadata": {},
     "output_type": "display_data"
    },
    {
     "data": {
      "application/vnd.jupyter.widget-view+json": {
       "model_id": "",
       "version_major": 2,
       "version_minor": 0
      },
      "text/plain": [
       "  0%|          | 0/13 [00:00<?, ?it/s]"
      ]
     },
     "metadata": {},
     "output_type": "display_data"
    },
    {
     "data": {
      "application/vnd.jupyter.widget-view+json": {
       "model_id": "",
       "version_major": 2,
       "version_minor": 0
      },
      "text/plain": [
       "  0%|          | 0/13 [00:00<?, ?it/s]"
      ]
     },
     "metadata": {},
     "output_type": "display_data"
    },
    {
     "data": {
      "application/vnd.jupyter.widget-view+json": {
       "model_id": "",
       "version_major": 2,
       "version_minor": 0
      },
      "text/plain": [
       "  0%|          | 0/13 [00:00<?, ?it/s]"
      ]
     },
     "metadata": {},
     "output_type": "display_data"
    },
    {
     "data": {
      "application/vnd.jupyter.widget-view+json": {
       "model_id": "",
       "version_major": 2,
       "version_minor": 0
      },
      "text/plain": [
       "  0%|          | 0/13 [00:00<?, ?it/s]"
      ]
     },
     "metadata": {},
     "output_type": "display_data"
    },
    {
     "data": {
      "application/vnd.jupyter.widget-view+json": {
       "model_id": "",
       "version_major": 2,
       "version_minor": 0
      },
      "text/plain": [
       "  0%|          | 0/13 [00:00<?, ?it/s]"
      ]
     },
     "metadata": {},
     "output_type": "display_data"
    },
    {
     "data": {
      "application/vnd.jupyter.widget-view+json": {
       "model_id": "",
       "version_major": 2,
       "version_minor": 0
      },
      "text/plain": [
       "  0%|          | 0/13 [00:00<?, ?it/s]"
      ]
     },
     "metadata": {},
     "output_type": "display_data"
    },
    {
     "data": {
      "application/vnd.jupyter.widget-view+json": {
       "model_id": "",
       "version_major": 2,
       "version_minor": 0
      },
      "text/plain": [
       "  0%|          | 0/13 [00:00<?, ?it/s]"
      ]
     },
     "metadata": {},
     "output_type": "display_data"
    },
    {
     "data": {
      "application/vnd.jupyter.widget-view+json": {
       "model_id": "",
       "version_major": 2,
       "version_minor": 0
      },
      "text/plain": [
       "  0%|          | 0/13 [00:00<?, ?it/s]"
      ]
     },
     "metadata": {},
     "output_type": "display_data"
    },
    {
     "data": {
      "application/vnd.jupyter.widget-view+json": {
       "model_id": "",
       "version_major": 2,
       "version_minor": 0
      },
      "text/plain": [
       "  0%|          | 0/13 [00:00<?, ?it/s]"
      ]
     },
     "metadata": {},
     "output_type": "display_data"
    },
    {
     "data": {
      "application/vnd.jupyter.widget-view+json": {
       "model_id": "",
       "version_major": 2,
       "version_minor": 0
      },
      "text/plain": [
       "  0%|          | 0/13 [00:00<?, ?it/s]"
      ]
     },
     "metadata": {},
     "output_type": "display_data"
    },
    {
     "data": {
      "application/vnd.jupyter.widget-view+json": {
       "model_id": "",
       "version_major": 2,
       "version_minor": 0
      },
      "text/plain": [
       "  0%|          | 0/10 [00:00<?, ?it/s]"
      ]
     },
     "metadata": {},
     "output_type": "display_data"
    },
    {
     "data": {
      "application/vnd.jupyter.widget-view+json": {
       "model_id": "",
       "version_major": 2,
       "version_minor": 0
      },
      "text/plain": [
       "  0%|          | 0/13 [00:00<?, ?it/s]"
      ]
     },
     "metadata": {},
     "output_type": "display_data"
    },
    {
     "data": {
      "application/vnd.jupyter.widget-view+json": {
       "model_id": "",
       "version_major": 2,
       "version_minor": 0
      },
      "text/plain": [
       "  0%|          | 0/13 [00:00<?, ?it/s]"
      ]
     },
     "metadata": {},
     "output_type": "display_data"
    },
    {
     "data": {
      "application/vnd.jupyter.widget-view+json": {
       "model_id": "",
       "version_major": 2,
       "version_minor": 0
      },
      "text/plain": [
       "  0%|          | 0/13 [00:00<?, ?it/s]"
      ]
     },
     "metadata": {},
     "output_type": "display_data"
    },
    {
     "data": {
      "application/vnd.jupyter.widget-view+json": {
       "model_id": "",
       "version_major": 2,
       "version_minor": 0
      },
      "text/plain": [
       "  0%|          | 0/13 [00:00<?, ?it/s]"
      ]
     },
     "metadata": {},
     "output_type": "display_data"
    },
    {
     "data": {
      "application/vnd.jupyter.widget-view+json": {
       "model_id": "",
       "version_major": 2,
       "version_minor": 0
      },
      "text/plain": [
       "  0%|          | 0/13 [00:00<?, ?it/s]"
      ]
     },
     "metadata": {},
     "output_type": "display_data"
    },
    {
     "data": {
      "application/vnd.jupyter.widget-view+json": {
       "model_id": "",
       "version_major": 2,
       "version_minor": 0
      },
      "text/plain": [
       "  0%|          | 0/13 [00:00<?, ?it/s]"
      ]
     },
     "metadata": {},
     "output_type": "display_data"
    },
    {
     "data": {
      "application/vnd.jupyter.widget-view+json": {
       "model_id": "",
       "version_major": 2,
       "version_minor": 0
      },
      "text/plain": [
       "  0%|          | 0/13 [00:00<?, ?it/s]"
      ]
     },
     "metadata": {},
     "output_type": "display_data"
    },
    {
     "data": {
      "application/vnd.jupyter.widget-view+json": {
       "model_id": "",
       "version_major": 2,
       "version_minor": 0
      },
      "text/plain": [
       "  0%|          | 0/13 [00:00<?, ?it/s]"
      ]
     },
     "metadata": {},
     "output_type": "display_data"
    },
    {
     "data": {
      "application/vnd.jupyter.widget-view+json": {
       "model_id": "",
       "version_major": 2,
       "version_minor": 0
      },
      "text/plain": [
       "  0%|          | 0/13 [00:00<?, ?it/s]"
      ]
     },
     "metadata": {},
     "output_type": "display_data"
    },
    {
     "data": {
      "application/vnd.jupyter.widget-view+json": {
       "model_id": "",
       "version_major": 2,
       "version_minor": 0
      },
      "text/plain": [
       "  0%|          | 0/13 [00:00<?, ?it/s]"
      ]
     },
     "metadata": {},
     "output_type": "display_data"
    },
    {
     "data": {
      "application/vnd.jupyter.widget-view+json": {
       "model_id": "",
       "version_major": 2,
       "version_minor": 0
      },
      "text/plain": [
       "  0%|          | 0/10 [00:00<?, ?it/s]"
      ]
     },
     "metadata": {},
     "output_type": "display_data"
    },
    {
     "data": {
      "application/vnd.jupyter.widget-view+json": {
       "model_id": "",
       "version_major": 2,
       "version_minor": 0
      },
      "text/plain": [
       "  0%|          | 0/13 [00:00<?, ?it/s]"
      ]
     },
     "metadata": {},
     "output_type": "display_data"
    },
    {
     "data": {
      "application/vnd.jupyter.widget-view+json": {
       "model_id": "",
       "version_major": 2,
       "version_minor": 0
      },
      "text/plain": [
       "  0%|          | 0/13 [00:00<?, ?it/s]"
      ]
     },
     "metadata": {},
     "output_type": "display_data"
    },
    {
     "data": {
      "application/vnd.jupyter.widget-view+json": {
       "model_id": "",
       "version_major": 2,
       "version_minor": 0
      },
      "text/plain": [
       "  0%|          | 0/13 [00:00<?, ?it/s]"
      ]
     },
     "metadata": {},
     "output_type": "display_data"
    },
    {
     "data": {
      "application/vnd.jupyter.widget-view+json": {
       "model_id": "",
       "version_major": 2,
       "version_minor": 0
      },
      "text/plain": [
       "  0%|          | 0/13 [00:00<?, ?it/s]"
      ]
     },
     "metadata": {},
     "output_type": "display_data"
    },
    {
     "data": {
      "application/vnd.jupyter.widget-view+json": {
       "model_id": "",
       "version_major": 2,
       "version_minor": 0
      },
      "text/plain": [
       "  0%|          | 0/13 [00:00<?, ?it/s]"
      ]
     },
     "metadata": {},
     "output_type": "display_data"
    },
    {
     "data": {
      "application/vnd.jupyter.widget-view+json": {
       "model_id": "",
       "version_major": 2,
       "version_minor": 0
      },
      "text/plain": [
       "  0%|          | 0/13 [00:00<?, ?it/s]"
      ]
     },
     "metadata": {},
     "output_type": "display_data"
    },
    {
     "data": {
      "application/vnd.jupyter.widget-view+json": {
       "model_id": "",
       "version_major": 2,
       "version_minor": 0
      },
      "text/plain": [
       "  0%|          | 0/13 [00:00<?, ?it/s]"
      ]
     },
     "metadata": {},
     "output_type": "display_data"
    },
    {
     "data": {
      "application/vnd.jupyter.widget-view+json": {
       "model_id": "",
       "version_major": 2,
       "version_minor": 0
      },
      "text/plain": [
       "  0%|          | 0/13 [00:00<?, ?it/s]"
      ]
     },
     "metadata": {},
     "output_type": "display_data"
    },
    {
     "data": {
      "application/vnd.jupyter.widget-view+json": {
       "model_id": "",
       "version_major": 2,
       "version_minor": 0
      },
      "text/plain": [
       "  0%|          | 0/13 [00:00<?, ?it/s]"
      ]
     },
     "metadata": {},
     "output_type": "display_data"
    },
    {
     "data": {
      "application/vnd.jupyter.widget-view+json": {
       "model_id": "",
       "version_major": 2,
       "version_minor": 0
      },
      "text/plain": [
       "  0%|          | 0/13 [00:00<?, ?it/s]"
      ]
     },
     "metadata": {},
     "output_type": "display_data"
    },
    {
     "data": {
      "application/vnd.jupyter.widget-view+json": {
       "model_id": "",
       "version_major": 2,
       "version_minor": 0
      },
      "text/plain": [
       "  0%|          | 0/10 [00:00<?, ?it/s]"
      ]
     },
     "metadata": {},
     "output_type": "display_data"
    },
    {
     "data": {
      "application/vnd.jupyter.widget-view+json": {
       "model_id": "",
       "version_major": 2,
       "version_minor": 0
      },
      "text/plain": [
       "  0%|          | 0/13 [00:00<?, ?it/s]"
      ]
     },
     "metadata": {},
     "output_type": "display_data"
    },
    {
     "data": {
      "application/vnd.jupyter.widget-view+json": {
       "model_id": "",
       "version_major": 2,
       "version_minor": 0
      },
      "text/plain": [
       "  0%|          | 0/13 [00:00<?, ?it/s]"
      ]
     },
     "metadata": {},
     "output_type": "display_data"
    },
    {
     "data": {
      "application/vnd.jupyter.widget-view+json": {
       "model_id": "",
       "version_major": 2,
       "version_minor": 0
      },
      "text/plain": [
       "  0%|          | 0/13 [00:00<?, ?it/s]"
      ]
     },
     "metadata": {},
     "output_type": "display_data"
    },
    {
     "data": {
      "application/vnd.jupyter.widget-view+json": {
       "model_id": "",
       "version_major": 2,
       "version_minor": 0
      },
      "text/plain": [
       "  0%|          | 0/13 [00:00<?, ?it/s]"
      ]
     },
     "metadata": {},
     "output_type": "display_data"
    },
    {
     "data": {
      "application/vnd.jupyter.widget-view+json": {
       "model_id": "082993ab2d5145aaab0aff696512650c",
       "version_major": 2,
       "version_minor": 0
      },
      "text/plain": [
       "  0%|          | 0/13 [00:00<?, ?it/s]"
      ]
     },
     "metadata": {},
     "output_type": "display_data"
    },
    {
     "data": {
      "application/vnd.jupyter.widget-view+json": {
       "model_id": "",
       "version_major": 2,
       "version_minor": 0
      },
      "text/plain": [
       "  0%|          | 0/13 [00:00<?, ?it/s]"
      ]
     },
     "metadata": {},
     "output_type": "display_data"
    },
    {
     "data": {
      "application/vnd.jupyter.widget-view+json": {
       "model_id": "",
       "version_major": 2,
       "version_minor": 0
      },
      "text/plain": [
       "  0%|          | 0/13 [00:00<?, ?it/s]"
      ]
     },
     "metadata": {},
     "output_type": "display_data"
    },
    {
     "data": {
      "application/vnd.jupyter.widget-view+json": {
       "model_id": "",
       "version_major": 2,
       "version_minor": 0
      },
      "text/plain": [
       "  0%|          | 0/13 [00:00<?, ?it/s]"
      ]
     },
     "metadata": {},
     "output_type": "display_data"
    },
    {
     "data": {
      "application/vnd.jupyter.widget-view+json": {
       "model_id": "",
       "version_major": 2,
       "version_minor": 0
      },
      "text/plain": [
       "  0%|          | 0/13 [00:00<?, ?it/s]"
      ]
     },
     "metadata": {},
     "output_type": "display_data"
    },
    {
     "data": {
      "application/vnd.jupyter.widget-view+json": {
       "model_id": "",
       "version_major": 2,
       "version_minor": 0
      },
      "text/plain": [
       "  0%|          | 0/13 [00:00<?, ?it/s]"
      ]
     },
     "metadata": {},
     "output_type": "display_data"
    }
   ],
   "source": [
    "tp24h_results = []\n",
    "for model_name in tqdm(model_list_rainfall[1:]):\n",
    "    lead_time_data = []\n",
    "    for lead_time in tqdm(lead_times, leave=False):\n",
    "        forecast_path = work_dir/\"Extremes/Extremes_tp24h_{}_{}_{}_{}d.nc\".format(\n",
    "            str(resolution).replace(\".\", \"\").ljust(3, \"0\"), str(year), model_name, str(lead_time).zfill(2))\n",
    "        hres_path = work_dir/\"Extremes/Extremes_tp24h_{}_{}_{}_{}d.nc\".format(\n",
    "            str(resolution).replace(\".\", \"\").ljust(3, \"0\"), str(year), \"hres\", str(lead_time).zfill(2))\n",
    "        \n",
    "        forecast_dataset = xr.open_dataset(forecast_path)[\"events\"].load().astype(np.int8)\n",
    "        hres_dataset = xr.open_dataset(hres_path)[\"events\"].load().astype(np.int8)\n",
    "        if model_name in [\"hres_ens\"]:\n",
    "            forecast_dataset = forecast_dataset/(50+1)\n",
    "        \n",
    "        observe_events = tp24h_era5_extremes\n",
    "\n",
    "        \n",
    "        region_data = []\n",
    "        for region_name, region in tqdm(predefined_regions.items(), leave=False):\n",
    "\n",
    "            forecast_data = region.apply(forecast_dataset.sel(quantile=0.9))\n",
    "            hres_data = region.apply(hres_dataset.sel(time=forecast_data.time, quantile=0.9))\n",
    "            \n",
    "            observe_data = region.apply(observe_events.sel(time=forecast_data.time, quantile=0.9))\n",
    "            \n",
    "            lat=np.tile(observe_data.latitude, len(observe_data.longitude)*len(observe_data.time))\n",
    "            lon=np.tile(np.repeat(observe_data.longitude, len(observe_data.latitude)),len(observe_data.time))\n",
    "            time=np.repeat(observe_data.time, len(observe_data.latitude)*len(observe_data.longitude)).values\n",
    "            \n",
    "            observe_data = observe_data.values.flatten()\n",
    "            forecast_data = forecast_data.values.flatten()\n",
    "            hres_data = hres_data.values.flatten()\n",
    "            \n",
    "            lat=lat[observe_data]\n",
    "            lon=lon[observe_data]\n",
    "            time=time[observe_data]\n",
    "            \n",
    "            forecasts = forecast_data[observe_data] #.astype(int)\n",
    "            hres = hres_data[observe_data] # .astype(int)\n",
    "            observations=observe_data[observe_data].astype(np.int8)\n",
    "            \n",
    "            sq_err_ai = (forecasts - observations) **2\n",
    "            sq_err_hres = (hres - observations) **2\n",
    "            \n",
    "            diff_ai = sq_err_ai - sq_err_hres\n",
    "            \n",
    "            df_ai = pd.DataFrame({'Latitude': lat,'Longitude': lon,'Time':time,'Predicted': diff_ai})\n",
    "            df_ai['Latlon']=round(df_ai['Latitude'],2).astype(str)+round(df_ai['Longitude'],2).astype(str)\n",
    "\n",
    "            model_cluster = PanelOLS.from_formula(\n",
    "                formula=(\"Predicted ~ 1\"), data=df_ai.set_index([\"Latlon\", \"Time\"]),).fit(\n",
    "                    cov_type=\"clustered\", cluster_entity=True, cluster_time=True)\n",
    "            test_st=model_cluster.tstats[0]\n",
    "            \n",
    "            threshold_low=stats.t(df=len(observations)).ppf((0.025))\n",
    "            threshold_high=stats.t(df=len(observations)).ppf((0.975))\n",
    "            \n",
    "            significant= np.where((test_st > threshold_high) | (test_st < threshold_low), 1, 0)\n",
    "            result = {\"model_name\": model_name, \"lead_time\": lead_time, \"region_name\": region_name, \"significant\": significant.tolist()}\n",
    "            tp24h_results.append(result)"
   ]
  },
  {
   "cell_type": "code",
   "execution_count": 19,
   "id": "65b366b9-70e1-4a67-bdf5-9f27f4fc78ec",
   "metadata": {
    "tags": []
   },
   "outputs": [],
   "source": [
    "pd.DataFrame(tp24h_results).to_csv(\"Significant_region_tp24h.csv\", index=None)"
   ]
  },
  {
   "cell_type": "code",
   "execution_count": 21,
   "id": "b21d6df2-c511-4ea5-8103-19a30c591599",
   "metadata": {
    "tags": []
   },
   "outputs": [
    {
     "data": {
      "application/vnd.jupyter.widget-view+json": {
       "model_id": "2552f9dc5dc04215b4d44504e1a98325",
       "version_major": 2,
       "version_minor": 0
      },
      "text/plain": [
       "  0%|          | 0/9 [00:00<?, ?it/s]"
      ]
     },
     "metadata": {},
     "output_type": "display_data"
    },
    {
     "data": {
      "application/vnd.jupyter.widget-view+json": {
       "model_id": "",
       "version_major": 2,
       "version_minor": 0
      },
      "text/plain": [
       "  0%|          | 0/10 [00:00<?, ?it/s]"
      ]
     },
     "metadata": {},
     "output_type": "display_data"
    },
    {
     "data": {
      "application/vnd.jupyter.widget-view+json": {
       "model_id": "",
       "version_major": 2,
       "version_minor": 0
      },
      "text/plain": [
       "  0%|          | 0/13 [00:00<?, ?it/s]"
      ]
     },
     "metadata": {},
     "output_type": "display_data"
    },
    {
     "data": {
      "application/vnd.jupyter.widget-view+json": {
       "model_id": "",
       "version_major": 2,
       "version_minor": 0
      },
      "text/plain": [
       "  0%|          | 0/13 [00:00<?, ?it/s]"
      ]
     },
     "metadata": {},
     "output_type": "display_data"
    },
    {
     "data": {
      "application/vnd.jupyter.widget-view+json": {
       "model_id": "",
       "version_major": 2,
       "version_minor": 0
      },
      "text/plain": [
       "  0%|          | 0/13 [00:00<?, ?it/s]"
      ]
     },
     "metadata": {},
     "output_type": "display_data"
    },
    {
     "data": {
      "application/vnd.jupyter.widget-view+json": {
       "model_id": "",
       "version_major": 2,
       "version_minor": 0
      },
      "text/plain": [
       "  0%|          | 0/13 [00:00<?, ?it/s]"
      ]
     },
     "metadata": {},
     "output_type": "display_data"
    },
    {
     "data": {
      "application/vnd.jupyter.widget-view+json": {
       "model_id": "",
       "version_major": 2,
       "version_minor": 0
      },
      "text/plain": [
       "  0%|          | 0/13 [00:00<?, ?it/s]"
      ]
     },
     "metadata": {},
     "output_type": "display_data"
    },
    {
     "data": {
      "application/vnd.jupyter.widget-view+json": {
       "model_id": "",
       "version_major": 2,
       "version_minor": 0
      },
      "text/plain": [
       "  0%|          | 0/13 [00:00<?, ?it/s]"
      ]
     },
     "metadata": {},
     "output_type": "display_data"
    },
    {
     "data": {
      "application/vnd.jupyter.widget-view+json": {
       "model_id": "",
       "version_major": 2,
       "version_minor": 0
      },
      "text/plain": [
       "  0%|          | 0/13 [00:00<?, ?it/s]"
      ]
     },
     "metadata": {},
     "output_type": "display_data"
    },
    {
     "data": {
      "application/vnd.jupyter.widget-view+json": {
       "model_id": "",
       "version_major": 2,
       "version_minor": 0
      },
      "text/plain": [
       "  0%|          | 0/13 [00:00<?, ?it/s]"
      ]
     },
     "metadata": {},
     "output_type": "display_data"
    },
    {
     "data": {
      "application/vnd.jupyter.widget-view+json": {
       "model_id": "",
       "version_major": 2,
       "version_minor": 0
      },
      "text/plain": [
       "  0%|          | 0/13 [00:00<?, ?it/s]"
      ]
     },
     "metadata": {},
     "output_type": "display_data"
    },
    {
     "data": {
      "application/vnd.jupyter.widget-view+json": {
       "model_id": "",
       "version_major": 2,
       "version_minor": 0
      },
      "text/plain": [
       "  0%|          | 0/13 [00:00<?, ?it/s]"
      ]
     },
     "metadata": {},
     "output_type": "display_data"
    },
    {
     "data": {
      "application/vnd.jupyter.widget-view+json": {
       "model_id": "",
       "version_major": 2,
       "version_minor": 0
      },
      "text/plain": [
       "  0%|          | 0/10 [00:00<?, ?it/s]"
      ]
     },
     "metadata": {},
     "output_type": "display_data"
    },
    {
     "data": {
      "application/vnd.jupyter.widget-view+json": {
       "model_id": "",
       "version_major": 2,
       "version_minor": 0
      },
      "text/plain": [
       "  0%|          | 0/13 [00:00<?, ?it/s]"
      ]
     },
     "metadata": {},
     "output_type": "display_data"
    },
    {
     "data": {
      "application/vnd.jupyter.widget-view+json": {
       "model_id": "",
       "version_major": 2,
       "version_minor": 0
      },
      "text/plain": [
       "  0%|          | 0/13 [00:00<?, ?it/s]"
      ]
     },
     "metadata": {},
     "output_type": "display_data"
    },
    {
     "data": {
      "application/vnd.jupyter.widget-view+json": {
       "model_id": "",
       "version_major": 2,
       "version_minor": 0
      },
      "text/plain": [
       "  0%|          | 0/13 [00:00<?, ?it/s]"
      ]
     },
     "metadata": {},
     "output_type": "display_data"
    },
    {
     "data": {
      "application/vnd.jupyter.widget-view+json": {
       "model_id": "",
       "version_major": 2,
       "version_minor": 0
      },
      "text/plain": [
       "  0%|          | 0/13 [00:00<?, ?it/s]"
      ]
     },
     "metadata": {},
     "output_type": "display_data"
    },
    {
     "data": {
      "application/vnd.jupyter.widget-view+json": {
       "model_id": "",
       "version_major": 2,
       "version_minor": 0
      },
      "text/plain": [
       "  0%|          | 0/13 [00:00<?, ?it/s]"
      ]
     },
     "metadata": {},
     "output_type": "display_data"
    },
    {
     "data": {
      "application/vnd.jupyter.widget-view+json": {
       "model_id": "",
       "version_major": 2,
       "version_minor": 0
      },
      "text/plain": [
       "  0%|          | 0/13 [00:00<?, ?it/s]"
      ]
     },
     "metadata": {},
     "output_type": "display_data"
    },
    {
     "data": {
      "application/vnd.jupyter.widget-view+json": {
       "model_id": "",
       "version_major": 2,
       "version_minor": 0
      },
      "text/plain": [
       "  0%|          | 0/13 [00:00<?, ?it/s]"
      ]
     },
     "metadata": {},
     "output_type": "display_data"
    },
    {
     "data": {
      "application/vnd.jupyter.widget-view+json": {
       "model_id": "",
       "version_major": 2,
       "version_minor": 0
      },
      "text/plain": [
       "  0%|          | 0/13 [00:00<?, ?it/s]"
      ]
     },
     "metadata": {},
     "output_type": "display_data"
    },
    {
     "data": {
      "application/vnd.jupyter.widget-view+json": {
       "model_id": "",
       "version_major": 2,
       "version_minor": 0
      },
      "text/plain": [
       "  0%|          | 0/13 [00:00<?, ?it/s]"
      ]
     },
     "metadata": {},
     "output_type": "display_data"
    },
    {
     "data": {
      "application/vnd.jupyter.widget-view+json": {
       "model_id": "",
       "version_major": 2,
       "version_minor": 0
      },
      "text/plain": [
       "  0%|          | 0/13 [00:00<?, ?it/s]"
      ]
     },
     "metadata": {},
     "output_type": "display_data"
    },
    {
     "data": {
      "application/vnd.jupyter.widget-view+json": {
       "model_id": "",
       "version_major": 2,
       "version_minor": 0
      },
      "text/plain": [
       "  0%|          | 0/10 [00:00<?, ?it/s]"
      ]
     },
     "metadata": {},
     "output_type": "display_data"
    },
    {
     "data": {
      "application/vnd.jupyter.widget-view+json": {
       "model_id": "",
       "version_major": 2,
       "version_minor": 0
      },
      "text/plain": [
       "  0%|          | 0/13 [00:00<?, ?it/s]"
      ]
     },
     "metadata": {},
     "output_type": "display_data"
    },
    {
     "data": {
      "application/vnd.jupyter.widget-view+json": {
       "model_id": "",
       "version_major": 2,
       "version_minor": 0
      },
      "text/plain": [
       "  0%|          | 0/13 [00:00<?, ?it/s]"
      ]
     },
     "metadata": {},
     "output_type": "display_data"
    },
    {
     "data": {
      "application/vnd.jupyter.widget-view+json": {
       "model_id": "",
       "version_major": 2,
       "version_minor": 0
      },
      "text/plain": [
       "  0%|          | 0/13 [00:00<?, ?it/s]"
      ]
     },
     "metadata": {},
     "output_type": "display_data"
    },
    {
     "data": {
      "application/vnd.jupyter.widget-view+json": {
       "model_id": "",
       "version_major": 2,
       "version_minor": 0
      },
      "text/plain": [
       "  0%|          | 0/13 [00:00<?, ?it/s]"
      ]
     },
     "metadata": {},
     "output_type": "display_data"
    },
    {
     "data": {
      "application/vnd.jupyter.widget-view+json": {
       "model_id": "",
       "version_major": 2,
       "version_minor": 0
      },
      "text/plain": [
       "  0%|          | 0/13 [00:00<?, ?it/s]"
      ]
     },
     "metadata": {},
     "output_type": "display_data"
    },
    {
     "data": {
      "application/vnd.jupyter.widget-view+json": {
       "model_id": "",
       "version_major": 2,
       "version_minor": 0
      },
      "text/plain": [
       "  0%|          | 0/13 [00:00<?, ?it/s]"
      ]
     },
     "metadata": {},
     "output_type": "display_data"
    },
    {
     "data": {
      "application/vnd.jupyter.widget-view+json": {
       "model_id": "",
       "version_major": 2,
       "version_minor": 0
      },
      "text/plain": [
       "  0%|          | 0/13 [00:00<?, ?it/s]"
      ]
     },
     "metadata": {},
     "output_type": "display_data"
    },
    {
     "data": {
      "application/vnd.jupyter.widget-view+json": {
       "model_id": "",
       "version_major": 2,
       "version_minor": 0
      },
      "text/plain": [
       "  0%|          | 0/13 [00:00<?, ?it/s]"
      ]
     },
     "metadata": {},
     "output_type": "display_data"
    },
    {
     "data": {
      "application/vnd.jupyter.widget-view+json": {
       "model_id": "",
       "version_major": 2,
       "version_minor": 0
      },
      "text/plain": [
       "  0%|          | 0/13 [00:00<?, ?it/s]"
      ]
     },
     "metadata": {},
     "output_type": "display_data"
    },
    {
     "data": {
      "application/vnd.jupyter.widget-view+json": {
       "model_id": "",
       "version_major": 2,
       "version_minor": 0
      },
      "text/plain": [
       "  0%|          | 0/13 [00:00<?, ?it/s]"
      ]
     },
     "metadata": {},
     "output_type": "display_data"
    },
    {
     "data": {
      "application/vnd.jupyter.widget-view+json": {
       "model_id": "",
       "version_major": 2,
       "version_minor": 0
      },
      "text/plain": [
       "  0%|          | 0/10 [00:00<?, ?it/s]"
      ]
     },
     "metadata": {},
     "output_type": "display_data"
    },
    {
     "data": {
      "application/vnd.jupyter.widget-view+json": {
       "model_id": "",
       "version_major": 2,
       "version_minor": 0
      },
      "text/plain": [
       "  0%|          | 0/13 [00:00<?, ?it/s]"
      ]
     },
     "metadata": {},
     "output_type": "display_data"
    },
    {
     "data": {
      "application/vnd.jupyter.widget-view+json": {
       "model_id": "",
       "version_major": 2,
       "version_minor": 0
      },
      "text/plain": [
       "  0%|          | 0/13 [00:00<?, ?it/s]"
      ]
     },
     "metadata": {},
     "output_type": "display_data"
    },
    {
     "data": {
      "application/vnd.jupyter.widget-view+json": {
       "model_id": "",
       "version_major": 2,
       "version_minor": 0
      },
      "text/plain": [
       "  0%|          | 0/13 [00:00<?, ?it/s]"
      ]
     },
     "metadata": {},
     "output_type": "display_data"
    },
    {
     "data": {
      "application/vnd.jupyter.widget-view+json": {
       "model_id": "",
       "version_major": 2,
       "version_minor": 0
      },
      "text/plain": [
       "  0%|          | 0/13 [00:00<?, ?it/s]"
      ]
     },
     "metadata": {},
     "output_type": "display_data"
    },
    {
     "data": {
      "application/vnd.jupyter.widget-view+json": {
       "model_id": "",
       "version_major": 2,
       "version_minor": 0
      },
      "text/plain": [
       "  0%|          | 0/13 [00:00<?, ?it/s]"
      ]
     },
     "metadata": {},
     "output_type": "display_data"
    },
    {
     "data": {
      "application/vnd.jupyter.widget-view+json": {
       "model_id": "",
       "version_major": 2,
       "version_minor": 0
      },
      "text/plain": [
       "  0%|          | 0/13 [00:00<?, ?it/s]"
      ]
     },
     "metadata": {},
     "output_type": "display_data"
    },
    {
     "data": {
      "application/vnd.jupyter.widget-view+json": {
       "model_id": "",
       "version_major": 2,
       "version_minor": 0
      },
      "text/plain": [
       "  0%|          | 0/13 [00:00<?, ?it/s]"
      ]
     },
     "metadata": {},
     "output_type": "display_data"
    },
    {
     "data": {
      "application/vnd.jupyter.widget-view+json": {
       "model_id": "",
       "version_major": 2,
       "version_minor": 0
      },
      "text/plain": [
       "  0%|          | 0/13 [00:00<?, ?it/s]"
      ]
     },
     "metadata": {},
     "output_type": "display_data"
    },
    {
     "data": {
      "application/vnd.jupyter.widget-view+json": {
       "model_id": "",
       "version_major": 2,
       "version_minor": 0
      },
      "text/plain": [
       "  0%|          | 0/13 [00:00<?, ?it/s]"
      ]
     },
     "metadata": {},
     "output_type": "display_data"
    },
    {
     "data": {
      "application/vnd.jupyter.widget-view+json": {
       "model_id": "",
       "version_major": 2,
       "version_minor": 0
      },
      "text/plain": [
       "  0%|          | 0/13 [00:00<?, ?it/s]"
      ]
     },
     "metadata": {},
     "output_type": "display_data"
    },
    {
     "data": {
      "application/vnd.jupyter.widget-view+json": {
       "model_id": "",
       "version_major": 2,
       "version_minor": 0
      },
      "text/plain": [
       "  0%|          | 0/10 [00:00<?, ?it/s]"
      ]
     },
     "metadata": {},
     "output_type": "display_data"
    },
    {
     "data": {
      "application/vnd.jupyter.widget-view+json": {
       "model_id": "",
       "version_major": 2,
       "version_minor": 0
      },
      "text/plain": [
       "  0%|          | 0/13 [00:00<?, ?it/s]"
      ]
     },
     "metadata": {},
     "output_type": "display_data"
    },
    {
     "data": {
      "application/vnd.jupyter.widget-view+json": {
       "model_id": "",
       "version_major": 2,
       "version_minor": 0
      },
      "text/plain": [
       "  0%|          | 0/13 [00:00<?, ?it/s]"
      ]
     },
     "metadata": {},
     "output_type": "display_data"
    },
    {
     "data": {
      "application/vnd.jupyter.widget-view+json": {
       "model_id": "",
       "version_major": 2,
       "version_minor": 0
      },
      "text/plain": [
       "  0%|          | 0/13 [00:00<?, ?it/s]"
      ]
     },
     "metadata": {},
     "output_type": "display_data"
    },
    {
     "data": {
      "application/vnd.jupyter.widget-view+json": {
       "model_id": "",
       "version_major": 2,
       "version_minor": 0
      },
      "text/plain": [
       "  0%|          | 0/13 [00:00<?, ?it/s]"
      ]
     },
     "metadata": {},
     "output_type": "display_data"
    },
    {
     "data": {
      "application/vnd.jupyter.widget-view+json": {
       "model_id": "d5aeb254f2db425e869768b89b10cff5",
       "version_major": 2,
       "version_minor": 0
      },
      "text/plain": [
       "  0%|          | 0/13 [00:00<?, ?it/s]"
      ]
     },
     "metadata": {},
     "output_type": "display_data"
    },
    {
     "data": {
      "application/vnd.jupyter.widget-view+json": {
       "model_id": "37ef567d2a8647ab8529e0090d4df370",
       "version_major": 2,
       "version_minor": 0
      },
      "text/plain": [
       "  0%|          | 0/13 [00:00<?, ?it/s]"
      ]
     },
     "metadata": {},
     "output_type": "display_data"
    },
    {
     "data": {
      "application/vnd.jupyter.widget-view+json": {
       "model_id": "92e56f534dec44d2b558e18c936d6d2b",
       "version_major": 2,
       "version_minor": 0
      },
      "text/plain": [
       "  0%|          | 0/13 [00:00<?, ?it/s]"
      ]
     },
     "metadata": {},
     "output_type": "display_data"
    },
    {
     "data": {
      "application/vnd.jupyter.widget-view+json": {
       "model_id": "bc37b69019be4b9189d43dff9f811665",
       "version_major": 2,
       "version_minor": 0
      },
      "text/plain": [
       "  0%|          | 0/13 [00:00<?, ?it/s]"
      ]
     },
     "metadata": {},
     "output_type": "display_data"
    },
    {
     "data": {
      "application/vnd.jupyter.widget-view+json": {
       "model_id": "54ce3dc8550f4ab7a17009c2842cd56d",
       "version_major": 2,
       "version_minor": 0
      },
      "text/plain": [
       "  0%|          | 0/13 [00:00<?, ?it/s]"
      ]
     },
     "metadata": {},
     "output_type": "display_data"
    },
    {
     "data": {
      "application/vnd.jupyter.widget-view+json": {
       "model_id": "3b310794ab7c479082eaddeddf724f08",
       "version_major": 2,
       "version_minor": 0
      },
      "text/plain": [
       "  0%|          | 0/13 [00:00<?, ?it/s]"
      ]
     },
     "metadata": {},
     "output_type": "display_data"
    },
    {
     "data": {
      "application/vnd.jupyter.widget-view+json": {
       "model_id": "76bdd9a21654460b852a7e6aa9750726",
       "version_major": 2,
       "version_minor": 0
      },
      "text/plain": [
       "  0%|          | 0/10 [00:00<?, ?it/s]"
      ]
     },
     "metadata": {},
     "output_type": "display_data"
    },
    {
     "data": {
      "application/vnd.jupyter.widget-view+json": {
       "model_id": "4dca555c60124a69887baeb37a6664ea",
       "version_major": 2,
       "version_minor": 0
      },
      "text/plain": [
       "  0%|          | 0/13 [00:00<?, ?it/s]"
      ]
     },
     "metadata": {},
     "output_type": "display_data"
    },
    {
     "data": {
      "application/vnd.jupyter.widget-view+json": {
       "model_id": "19d8e2be17e74da2955cca6f9e16846a",
       "version_major": 2,
       "version_minor": 0
      },
      "text/plain": [
       "  0%|          | 0/13 [00:00<?, ?it/s]"
      ]
     },
     "metadata": {},
     "output_type": "display_data"
    },
    {
     "data": {
      "application/vnd.jupyter.widget-view+json": {
       "model_id": "553d61f17cf046c6a9a8b20d3092cfdd",
       "version_major": 2,
       "version_minor": 0
      },
      "text/plain": [
       "  0%|          | 0/13 [00:00<?, ?it/s]"
      ]
     },
     "metadata": {},
     "output_type": "display_data"
    },
    {
     "data": {
      "application/vnd.jupyter.widget-view+json": {
       "model_id": "fe10d2641c084256b39cba73e682e20f",
       "version_major": 2,
       "version_minor": 0
      },
      "text/plain": [
       "  0%|          | 0/13 [00:00<?, ?it/s]"
      ]
     },
     "metadata": {},
     "output_type": "display_data"
    },
    {
     "data": {
      "application/vnd.jupyter.widget-view+json": {
       "model_id": "e3f5eda2c25a4abc8e63cde190062b26",
       "version_major": 2,
       "version_minor": 0
      },
      "text/plain": [
       "  0%|          | 0/13 [00:00<?, ?it/s]"
      ]
     },
     "metadata": {},
     "output_type": "display_data"
    },
    {
     "data": {
      "application/vnd.jupyter.widget-view+json": {
       "model_id": "16c75f86d6df48c09f63ec457c7c49f7",
       "version_major": 2,
       "version_minor": 0
      },
      "text/plain": [
       "  0%|          | 0/13 [00:00<?, ?it/s]"
      ]
     },
     "metadata": {},
     "output_type": "display_data"
    },
    {
     "data": {
      "application/vnd.jupyter.widget-view+json": {
       "model_id": "ca3d2e2022f643acb1400e35d7c5eed1",
       "version_major": 2,
       "version_minor": 0
      },
      "text/plain": [
       "  0%|          | 0/13 [00:00<?, ?it/s]"
      ]
     },
     "metadata": {},
     "output_type": "display_data"
    },
    {
     "data": {
      "application/vnd.jupyter.widget-view+json": {
       "model_id": "f99131212a3b427f8f8424f92be6ae2d",
       "version_major": 2,
       "version_minor": 0
      },
      "text/plain": [
       "  0%|          | 0/13 [00:00<?, ?it/s]"
      ]
     },
     "metadata": {},
     "output_type": "display_data"
    },
    {
     "data": {
      "application/vnd.jupyter.widget-view+json": {
       "model_id": "ad551f05a1f54393a0b4c8e9dba405d1",
       "version_major": 2,
       "version_minor": 0
      },
      "text/plain": [
       "  0%|          | 0/13 [00:00<?, ?it/s]"
      ]
     },
     "metadata": {},
     "output_type": "display_data"
    },
    {
     "data": {
      "application/vnd.jupyter.widget-view+json": {
       "model_id": "0247fef9ce6348368cb22bb16bae5f59",
       "version_major": 2,
       "version_minor": 0
      },
      "text/plain": [
       "  0%|          | 0/13 [00:00<?, ?it/s]"
      ]
     },
     "metadata": {},
     "output_type": "display_data"
    },
    {
     "data": {
      "application/vnd.jupyter.widget-view+json": {
       "model_id": "29e3d9ac249641e1b9fd8eebf7006218",
       "version_major": 2,
       "version_minor": 0
      },
      "text/plain": [
       "  0%|          | 0/10 [00:00<?, ?it/s]"
      ]
     },
     "metadata": {},
     "output_type": "display_data"
    },
    {
     "data": {
      "application/vnd.jupyter.widget-view+json": {
       "model_id": "4b20972053ed4c08844346e5897ccb32",
       "version_major": 2,
       "version_minor": 0
      },
      "text/plain": [
       "  0%|          | 0/13 [00:00<?, ?it/s]"
      ]
     },
     "metadata": {},
     "output_type": "display_data"
    },
    {
     "data": {
      "application/vnd.jupyter.widget-view+json": {
       "model_id": "9c7986eebef1499bba02994df3c8898a",
       "version_major": 2,
       "version_minor": 0
      },
      "text/plain": [
       "  0%|          | 0/13 [00:00<?, ?it/s]"
      ]
     },
     "metadata": {},
     "output_type": "display_data"
    },
    {
     "data": {
      "application/vnd.jupyter.widget-view+json": {
       "model_id": "28acf0f36dad4cdbbfc0073217eebe63",
       "version_major": 2,
       "version_minor": 0
      },
      "text/plain": [
       "  0%|          | 0/13 [00:00<?, ?it/s]"
      ]
     },
     "metadata": {},
     "output_type": "display_data"
    },
    {
     "data": {
      "application/vnd.jupyter.widget-view+json": {
       "model_id": "811cda77d4224d59b4de35db3fefcf13",
       "version_major": 2,
       "version_minor": 0
      },
      "text/plain": [
       "  0%|          | 0/13 [00:00<?, ?it/s]"
      ]
     },
     "metadata": {},
     "output_type": "display_data"
    },
    {
     "data": {
      "application/vnd.jupyter.widget-view+json": {
       "model_id": "544a95cc43a440e6827682fc28eaf2d1",
       "version_major": 2,
       "version_minor": 0
      },
      "text/plain": [
       "  0%|          | 0/13 [00:00<?, ?it/s]"
      ]
     },
     "metadata": {},
     "output_type": "display_data"
    },
    {
     "data": {
      "application/vnd.jupyter.widget-view+json": {
       "model_id": "957bd7df8a58425a92ce94288255d71d",
       "version_major": 2,
       "version_minor": 0
      },
      "text/plain": [
       "  0%|          | 0/13 [00:00<?, ?it/s]"
      ]
     },
     "metadata": {},
     "output_type": "display_data"
    },
    {
     "data": {
      "application/vnd.jupyter.widget-view+json": {
       "model_id": "3fe0de68e0694290bae66eafdc7f7e9f",
       "version_major": 2,
       "version_minor": 0
      },
      "text/plain": [
       "  0%|          | 0/13 [00:00<?, ?it/s]"
      ]
     },
     "metadata": {},
     "output_type": "display_data"
    },
    {
     "data": {
      "application/vnd.jupyter.widget-view+json": {
       "model_id": "3ec10c3743554ddebc42ef69081971ee",
       "version_major": 2,
       "version_minor": 0
      },
      "text/plain": [
       "  0%|          | 0/13 [00:00<?, ?it/s]"
      ]
     },
     "metadata": {},
     "output_type": "display_data"
    },
    {
     "data": {
      "application/vnd.jupyter.widget-view+json": {
       "model_id": "dcf21bfdf104437a9da191201c6adfc6",
       "version_major": 2,
       "version_minor": 0
      },
      "text/plain": [
       "  0%|          | 0/13 [00:00<?, ?it/s]"
      ]
     },
     "metadata": {},
     "output_type": "display_data"
    },
    {
     "data": {
      "application/vnd.jupyter.widget-view+json": {
       "model_id": "e146cf55b89c4b8baa9c8cd07df0958e",
       "version_major": 2,
       "version_minor": 0
      },
      "text/plain": [
       "  0%|          | 0/13 [00:00<?, ?it/s]"
      ]
     },
     "metadata": {},
     "output_type": "display_data"
    },
    {
     "data": {
      "application/vnd.jupyter.widget-view+json": {
       "model_id": "e618bde51ef64871b652d177ff5f319d",
       "version_major": 2,
       "version_minor": 0
      },
      "text/plain": [
       "  0%|          | 0/10 [00:00<?, ?it/s]"
      ]
     },
     "metadata": {},
     "output_type": "display_data"
    },
    {
     "data": {
      "application/vnd.jupyter.widget-view+json": {
       "model_id": "e0d21c4d0b60423db08b83eb5f686b2d",
       "version_major": 2,
       "version_minor": 0
      },
      "text/plain": [
       "  0%|          | 0/13 [00:00<?, ?it/s]"
      ]
     },
     "metadata": {},
     "output_type": "display_data"
    },
    {
     "data": {
      "application/vnd.jupyter.widget-view+json": {
       "model_id": "e6d7d89ba2b94d258b852be3e976dbf6",
       "version_major": 2,
       "version_minor": 0
      },
      "text/plain": [
       "  0%|          | 0/13 [00:00<?, ?it/s]"
      ]
     },
     "metadata": {},
     "output_type": "display_data"
    },
    {
     "data": {
      "application/vnd.jupyter.widget-view+json": {
       "model_id": "266ed793c550419287c442e2d7002ceb",
       "version_major": 2,
       "version_minor": 0
      },
      "text/plain": [
       "  0%|          | 0/13 [00:00<?, ?it/s]"
      ]
     },
     "metadata": {},
     "output_type": "display_data"
    },
    {
     "data": {
      "application/vnd.jupyter.widget-view+json": {
       "model_id": "62cbecbd05e84533905d580ead85e292",
       "version_major": 2,
       "version_minor": 0
      },
      "text/plain": [
       "  0%|          | 0/13 [00:00<?, ?it/s]"
      ]
     },
     "metadata": {},
     "output_type": "display_data"
    },
    {
     "data": {
      "application/vnd.jupyter.widget-view+json": {
       "model_id": "3ca685e7d4474e1ab0cbce4b70499aae",
       "version_major": 2,
       "version_minor": 0
      },
      "text/plain": [
       "  0%|          | 0/13 [00:00<?, ?it/s]"
      ]
     },
     "metadata": {},
     "output_type": "display_data"
    },
    {
     "data": {
      "application/vnd.jupyter.widget-view+json": {
       "model_id": "7207c163fdbe40928d4c1a2cdbda18f8",
       "version_major": 2,
       "version_minor": 0
      },
      "text/plain": [
       "  0%|          | 0/13 [00:00<?, ?it/s]"
      ]
     },
     "metadata": {},
     "output_type": "display_data"
    },
    {
     "data": {
      "application/vnd.jupyter.widget-view+json": {
       "model_id": "4b5e31745f2f440fbe36fb09257415a5",
       "version_major": 2,
       "version_minor": 0
      },
      "text/plain": [
       "  0%|          | 0/13 [00:00<?, ?it/s]"
      ]
     },
     "metadata": {},
     "output_type": "display_data"
    },
    {
     "data": {
      "application/vnd.jupyter.widget-view+json": {
       "model_id": "7425724eb737489ca467def616144c74",
       "version_major": 2,
       "version_minor": 0
      },
      "text/plain": [
       "  0%|          | 0/13 [00:00<?, ?it/s]"
      ]
     },
     "metadata": {},
     "output_type": "display_data"
    },
    {
     "data": {
      "application/vnd.jupyter.widget-view+json": {
       "model_id": "f57923ebc43d4ff1b3e87833e72e0257",
       "version_major": 2,
       "version_minor": 0
      },
      "text/plain": [
       "  0%|          | 0/13 [00:00<?, ?it/s]"
      ]
     },
     "metadata": {},
     "output_type": "display_data"
    },
    {
     "data": {
      "application/vnd.jupyter.widget-view+json": {
       "model_id": "e259c05fd54b40a7abd98ef58de25731",
       "version_major": 2,
       "version_minor": 0
      },
      "text/plain": [
       "  0%|          | 0/13 [00:00<?, ?it/s]"
      ]
     },
     "metadata": {},
     "output_type": "display_data"
    },
    {
     "data": {
      "application/vnd.jupyter.widget-view+json": {
       "model_id": "04108d2ebf2549eeab53517b93a5e539",
       "version_major": 2,
       "version_minor": 0
      },
      "text/plain": [
       "  0%|          | 0/10 [00:00<?, ?it/s]"
      ]
     },
     "metadata": {},
     "output_type": "display_data"
    },
    {
     "data": {
      "application/vnd.jupyter.widget-view+json": {
       "model_id": "67869a0508004619b84bc0578e8bc4a9",
       "version_major": 2,
       "version_minor": 0
      },
      "text/plain": [
       "  0%|          | 0/13 [00:00<?, ?it/s]"
      ]
     },
     "metadata": {},
     "output_type": "display_data"
    },
    {
     "data": {
      "application/vnd.jupyter.widget-view+json": {
       "model_id": "2bf2fd461e754c09930fa7b683745f97",
       "version_major": 2,
       "version_minor": 0
      },
      "text/plain": [
       "  0%|          | 0/13 [00:00<?, ?it/s]"
      ]
     },
     "metadata": {},
     "output_type": "display_data"
    },
    {
     "data": {
      "application/vnd.jupyter.widget-view+json": {
       "model_id": "db1c9bfe092a47a9990c9d2a898e84a8",
       "version_major": 2,
       "version_minor": 0
      },
      "text/plain": [
       "  0%|          | 0/13 [00:00<?, ?it/s]"
      ]
     },
     "metadata": {},
     "output_type": "display_data"
    },
    {
     "data": {
      "application/vnd.jupyter.widget-view+json": {
       "model_id": "fe6780e2056d48508ac4beadcd579411",
       "version_major": 2,
       "version_minor": 0
      },
      "text/plain": [
       "  0%|          | 0/13 [00:00<?, ?it/s]"
      ]
     },
     "metadata": {},
     "output_type": "display_data"
    },
    {
     "data": {
      "application/vnd.jupyter.widget-view+json": {
       "model_id": "ef862ea1ccb94b80b83b8b1d76732d60",
       "version_major": 2,
       "version_minor": 0
      },
      "text/plain": [
       "  0%|          | 0/13 [00:00<?, ?it/s]"
      ]
     },
     "metadata": {},
     "output_type": "display_data"
    },
    {
     "data": {
      "application/vnd.jupyter.widget-view+json": {
       "model_id": "314c4d3049df40c9ad7aa96995363409",
       "version_major": 2,
       "version_minor": 0
      },
      "text/plain": [
       "  0%|          | 0/13 [00:00<?, ?it/s]"
      ]
     },
     "metadata": {},
     "output_type": "display_data"
    },
    {
     "data": {
      "application/vnd.jupyter.widget-view+json": {
       "model_id": "8d2a399404524781a1342e4fb97eb335",
       "version_major": 2,
       "version_minor": 0
      },
      "text/plain": [
       "  0%|          | 0/13 [00:00<?, ?it/s]"
      ]
     },
     "metadata": {},
     "output_type": "display_data"
    },
    {
     "data": {
      "application/vnd.jupyter.widget-view+json": {
       "model_id": "f1e12230ab6f42f4b158a3d8cd547635",
       "version_major": 2,
       "version_minor": 0
      },
      "text/plain": [
       "  0%|          | 0/13 [00:00<?, ?it/s]"
      ]
     },
     "metadata": {},
     "output_type": "display_data"
    },
    {
     "data": {
      "application/vnd.jupyter.widget-view+json": {
       "model_id": "1fa54fa0e1bc472ea8dfb46c165db699",
       "version_major": 2,
       "version_minor": 0
      },
      "text/plain": [
       "  0%|          | 0/13 [00:00<?, ?it/s]"
      ]
     },
     "metadata": {},
     "output_type": "display_data"
    },
    {
     "data": {
      "application/vnd.jupyter.widget-view+json": {
       "model_id": "17b9c9b4096c491ea38356589b70010c",
       "version_major": 2,
       "version_minor": 0
      },
      "text/plain": [
       "  0%|          | 0/13 [00:00<?, ?it/s]"
      ]
     },
     "metadata": {},
     "output_type": "display_data"
    }
   ],
   "source": [
    "tx24h_results = []\n",
    "for model_name in tqdm(model_list_heatwave[1:]):\n",
    "    lead_time_data = []\n",
    "    for lead_time in tqdm(lead_times, leave=False):\n",
    "        forecast_path = work_dir/\"Extremes/Extremes_tx24h_{}_{}_{}_{}d.nc\".format(\n",
    "            str(resolution).replace(\".\", \"\").ljust(3, \"0\"), str(year), model_name, str(lead_time).zfill(2))\n",
    "        hres_path = work_dir/\"Extremes/Extremes_tx24h_{}_{}_{}_{}d.nc\".format(\n",
    "            str(resolution).replace(\".\", \"\").ljust(3, \"0\"), str(year), \"hres\", str(lead_time).zfill(2))\n",
    "        \n",
    "        forecast_dataset = xr.open_dataset(forecast_path)[\"events\"].load().astype(np.int8)\n",
    "        hres_dataset = xr.open_dataset(hres_path)[\"events\"].load().astype(np.int8)\n",
    "        if model_name in [\"hres_ens\"]:\n",
    "            forecast_dataset = forecast_dataset/(50+1)\n",
    "        observe_events = tx24h_era5_extremes\n",
    "        observe_events_hres0 = tx24h_hres0_extremes\n",
    "\n",
    "        region_data = []\n",
    "        for region_name, region in tqdm(predefined_regions.items(), leave=False):\n",
    "\n",
    "            forecast_data = region.apply(forecast_dataset.sel(quantile=0.9))#.transpose(\"latitude\", \"longitude\", \"time\")\n",
    "            hres_data = region.apply(hres_dataset.sel(time=forecast_data.time, quantile=0.9))#.transpose(\"latitude\", \"longitude\", \"time\")\n",
    "            \n",
    "            observe_data = region.apply(observe_events.sel(time=forecast_data.time, quantile=0.9))#.transpose(\"latitude\", \"longitude\", \"time\")\n",
    "            observe_data_hres0 = region.apply(observe_events_hres0.sel(time=forecast_data.time, quantile=0.9))\n",
    "            \n",
    "            lat=np.tile(observe_data.latitude, len(observe_data.longitude)*len(observe_data.time))\n",
    "            lon=np.tile(np.repeat(observe_data.longitude, len(observe_data.latitude)),len(observe_data.time))\n",
    "            time=np.repeat(observe_data.time, len(observe_data.latitude)*len(observe_data.longitude)).values\n",
    "            \n",
    "            observe_data = observe_data.values.flatten()\n",
    "            observe_data_hres0 = observe_data_hres0.values.flatten()\n",
    "            forecast_data = forecast_data.values.flatten()\n",
    "            hres_data = hres_data.values.flatten()\n",
    "            \n",
    "            lat=lat[observe_data]\n",
    "            lon=lon[observe_data]\n",
    "            time=time[observe_data]\n",
    "            \n",
    "            forecasts = forecast_data[observe_data] #.astype(int)\n",
    "            hres = hres_data[observe_data] #.astype(int)\n",
    "            observations=observe_data[observe_data].astype(np.int8)\n",
    "            observations_hres0=observe_data_hres0[observe_data].astype(np.int8)\n",
    "            \n",
    "            sq_err_ai = (forecasts - observations) ** 2\n",
    "            sq_err_hres = (hres - observations) ** 2\n",
    "            \n",
    "            diff_ai = sq_err_ai - sq_err_hres\n",
    "            \n",
    "            df_ai = pd.DataFrame({'Latitude': lat,'Longitude': lon,'Time':time,'Predicted': diff_ai})\n",
    "            df_ai['Latlon']=round(df_ai['Latitude'],2).astype(str)+round(df_ai['Longitude'],2).astype(str)\n",
    "\n",
    "            model_cluster = PanelOLS.from_formula(\n",
    "                formula=(\"Predicted ~ 1\"), data=df_ai.set_index([\"Latlon\", \"Time\"]),).fit(\n",
    "                    cov_type=\"clustered\", cluster_entity=True, cluster_time=True)\n",
    "            test_st=model_cluster.tstats[0]\n",
    "            \n",
    "            threshold_low=stats.t(df=len(observations)).ppf((0.025))\n",
    "            threshold_high=stats.t(df=len(observations)).ppf((0.975))\n",
    "            \n",
    "            significant= np.where((test_st > threshold_high) | (test_st < threshold_low), 1, 0)\n",
    "            result = {\"model_name\": model_name, \"lead_time\": lead_time, \"region_name\": region_name, \"significant\": significant.tolist()}\n",
    "            tx24h_results.append(result)\n",
    "    #         break\n",
    "    #     # break\n",
    "            # print(threshold_low, test_st, threshold_high, significant)\n",
    "    # break"
   ]
  },
  {
   "cell_type": "code",
   "execution_count": 23,
   "id": "343eb37f-4c88-483e-b4d1-2fab5518d2eb",
   "metadata": {
    "tags": []
   },
   "outputs": [],
   "source": [
    "pd.DataFrame(tx24h_results).to_csv(\"Significant_region_tx24h.csv\", index=None)"
   ]
  },
  {
   "cell_type": "markdown",
   "id": "b8f78f98-5c85-4457-af58-e4937506f90a",
   "metadata": {},
   "source": [
    "# Significance tests at the grid cell"
   ]
  },
  {
   "cell_type": "code",
   "execution_count": 1,
   "id": "37853133-0d72-423b-81d3-91c196982a00",
   "metadata": {
    "tags": []
   },
   "outputs": [],
   "source": [
    "import xarray as xr\n",
    "import pandas as pd\n",
    "import numpy as np\n",
    "from pathlib import Path\n",
    "from scipy import stats\n",
    "from linearmodels import PanelOLS\n",
    "from tqdm.notebook import tqdm, trange\n",
    "import statsmodels.api\n",
    "import statsmodels as sm"
   ]
  },
  {
   "cell_type": "code",
   "execution_count": 2,
   "id": "da14cd7a-4027-4efb-b58c-902b6317da9d",
   "metadata": {
    "tags": []
   },
   "outputs": [],
   "source": [
    "work_dir = Path(\".\")"
   ]
  },
  {
   "cell_type": "code",
   "execution_count": 3,
   "id": "7842ac69-cc17-473e-8876-4851a11cfad4",
   "metadata": {
    "tags": []
   },
   "outputs": [],
   "source": [
    "tp24h_era5_extremes = xr.open_dataset(\"Extremes/Extremes_tp24h_150_2020_era5.nc\")[\"events\"].load()\n",
    "tx24h_era5_extremes = xr.open_dataset(\"Extremes/Extremes_tx24h_150_2020_era5.nc\")[\"events\"].load()\n",
    "tx24h_hres0_extremes = xr.open_dataset(\"Extremes/Extremes_tx24h_150_2020_hres0.nc\")[\"events\"].load()"
   ]
  },
  {
   "cell_type": "code",
   "execution_count": 4,
   "id": "e1e74804-a7e8-456c-8921-9b77624641d2",
   "metadata": {
    "tags": []
   },
   "outputs": [],
   "source": [
    "resolution = 1.50\n",
    "year = 2020\n",
    "lead_times = np.arange(1, 11)\n",
    "model_list_heatwave = [\"hres\", \"hres_ens\",  \"hres_ens_mean\", \"era5-forecast\",\n",
    "               \"pangu-oper\",\"graphcast-oper\", \"pangu\", \"graphcast\",\"fuxi\"]\n",
    "model_list_rainfall = [\"hres\", \"hres_ens\",  \"hres_ens_mean\", \"graphcast\", \"graphcast-oper\", \"fuxi\"]"
   ]
  },
  {
   "cell_type": "code",
   "execution_count": 5,
   "id": "0929da4b-7983-464b-87ef-297ec1ad784c",
   "metadata": {
    "tags": []
   },
   "outputs": [],
   "source": [
    "def calcu_stat(x, time):\n",
    "    df = pd.DataFrame({\"Time\": time, \"Values\": x}).dropna()\n",
    "    df[\"Latitude\"] = 1\n",
    "    df[\"Longitude\"] = 1\n",
    "    df = df.set_index(['Latitude', 'Time'])\n",
    "    \n",
    "    # print(df.dropna())\n",
    "    model_cluster = PanelOLS.from_formula(\n",
    "        formula=(\"Values ~ 1\"),data=df).fit(\n",
    "            cov_type=\"clustered\", cluster_entity=False, cluster_time=True)\n",
    "\n",
    "    t_stat=model_cluster.tstats[0]\n",
    "    # print(t_stat)\n",
    "    df = len(df) - 1\n",
    "    p_val=2*(stats.t.cdf(-abs(t_stat), df))\n",
    "    \n",
    "    sig_cor=(sm.stats.multitest.fdrcorrection(np.array([p_val]), alpha=0.1)[0])*1\n",
    "    return sig_cor[0]\n",
    "    # print(time)"
   ]
  },
  {
   "cell_type": "code",
   "execution_count": 6,
   "id": "c713da6c-cb01-48af-b285-7ad62b9d939f",
   "metadata": {
    "collapsed": true,
    "jupyter": {
     "outputs_hidden": true
    },
    "tags": []
   },
   "outputs": [
    {
     "data": {
      "application/vnd.jupyter.widget-view+json": {
       "model_id": "2a70f4279ef94f45b445bdb1ac5e5287",
       "version_major": 2,
       "version_minor": 0
      },
      "text/plain": [
       "  0%|          | 0/3 [00:00<?, ?it/s]"
      ]
     },
     "metadata": {},
     "output_type": "display_data"
    },
    {
     "data": {
      "application/vnd.jupyter.widget-view+json": {
       "model_id": "a23032dc4e104d969a6a0c9ae633d69b",
       "version_major": 2,
       "version_minor": 0
      },
      "text/plain": [
       "  0%|          | 0/5 [00:00<?, ?it/s]"
      ]
     },
     "metadata": {},
     "output_type": "display_data"
    },
    {
     "name": "stderr",
     "output_type": "stream",
     "text": [
      "\n",
      "KeyboardInterrupt\n",
      "\n"
     ]
    }
   ],
   "source": [
    "tp24h_results = []\n",
    "lead_times = [3, 5, 10]\n",
    "use_models = [\"hres_ens\", \"hres_ens_mean\", \"graphcast-oper\", \"graphcast\", \"fuxi\"]\n",
    "for lead_time in tqdm(lead_times):\n",
    "    hres_path = work_dir/\"Extremes/Extremes_tp24h_{}_{}_{}_{}d.nc\".format(\n",
    "        str(resolution).replace(\".\", \"\").ljust(3, \"0\"), str(year), \"hres\", str(lead_time).zfill(2))\n",
    "    hres_dataset = xr.open_dataset(hres_path)[\"events\"].load().astype(np.int8)\n",
    "    observe_events = tp24h_era5_extremes\n",
    "    model_data = []\n",
    "    for model_name in tqdm(use_models, leave=False):\n",
    "        lead_time_data = []\n",
    "    \n",
    "        forecast_path = work_dir/\"Extremes/Extremes_tp24h_{}_{}_{}_{}d.nc\".format(\n",
    "            str(resolution).replace(\".\", \"\").ljust(3, \"0\"), str(year), model_name, str(lead_time).zfill(2))\n",
    "        forecast_dataset = xr.open_dataset(forecast_path)[\"events\"].load().astype(np.int8)\n",
    "        if model_name in [\"hres_ens\"]:\n",
    "            forecast_dataset = forecast_dataset/(50+1)            \n",
    "        forecast_data = forecast_dataset.sel(quantile=0.9)\n",
    "        time = forecast_data.time\n",
    "        hres_data = hres_dataset.sel(time=time, quantile=0.9)\n",
    "        observe_data = observe_events.sel(time=time, quantile=0.9)\n",
    "        \n",
    "        \n",
    "        forecast_masked_arr = np.ma.masked_array(forecast_data, ~observe_data.data)\n",
    "        observe_masked_arr = np.ma.masked_array(observe_data.data.astype(int), ~observe_data.data)\n",
    "        hres_masked_arr = np.ma.masked_array(hres_data, ~observe_data.data)\n",
    "        \n",
    "        sq_err_ai = (forecast_masked_arr - observe_masked_arr) **2\n",
    "        sq_err_hres = (hres_masked_arr - observe_masked_arr) **2        \n",
    "        diff_ai = sq_err_ai - sq_err_hres\n",
    "        \n",
    "        stats_values = np.apply_along_axis(calcu_stat, 0, diff_ai, time.data)\n",
    "        da = xr.DataArray(stats_values, \n",
    "                          coords={\"longitude\": forecast_data.longitude,\n",
    "                                  \"latitude\": forecast_data.latitude}, \n",
    "                          dims=[\"longitude\", \"latitude\"], name=\"significant\")\n",
    "        model_data.append(da)\n",
    "    model_data = xr.concat(model_data, dim=\"model_name\")\n",
    "    model_data[\"model_name\"] = use_models\n",
    "    \n",
    "    tp24h_results.append(model_data)\n",
    "tp24h_results = xr.concat(tp24h_results, dim=\"lead_time\")\n",
    "tp24h_results[\"lead_time\"] = lead_times    "
   ]
  },
  {
   "cell_type": "code",
   "execution_count": 10,
   "id": "f0cbc01b-adc7-4cc2-9a2a-cb0414e243bc",
   "metadata": {
    "tags": []
   },
   "outputs": [],
   "source": [
    "tp24h_results.to_netcdf(\"Significant_Grid_tp24h.nc\")"
   ]
  },
  {
   "cell_type": "code",
   "execution_count": 7,
   "id": "70c6a4e1-6296-4b85-bd5e-fdfdd89cc3b9",
   "metadata": {
    "tags": []
   },
   "outputs": [
    {
     "data": {
      "application/vnd.jupyter.widget-view+json": {
       "model_id": "19c446f41cf04bb0b4c7d7e47c0cb9d5",
       "version_major": 2,
       "version_minor": 0
      },
      "text/plain": [
       "  0%|          | 0/3 [00:00<?, ?it/s]"
      ]
     },
     "metadata": {},
     "output_type": "display_data"
    },
    {
     "data": {
      "application/vnd.jupyter.widget-view+json": {
       "model_id": "",
       "version_major": 2,
       "version_minor": 0
      },
      "text/plain": [
       "  0%|          | 0/5 [00:00<?, ?it/s]"
      ]
     },
     "metadata": {},
     "output_type": "display_data"
    },
    {
     "data": {
      "application/vnd.jupyter.widget-view+json": {
       "model_id": "",
       "version_major": 2,
       "version_minor": 0
      },
      "text/plain": [
       "  0%|          | 0/5 [00:00<?, ?it/s]"
      ]
     },
     "metadata": {},
     "output_type": "display_data"
    },
    {
     "data": {
      "application/vnd.jupyter.widget-view+json": {
       "model_id": "",
       "version_major": 2,
       "version_minor": 0
      },
      "text/plain": [
       "  0%|          | 0/5 [00:00<?, ?it/s]"
      ]
     },
     "metadata": {},
     "output_type": "display_data"
    }
   ],
   "source": [
    "tx24h_results = []\n",
    "lead_times = [3, 5, 10]\n",
    "use_models = [\"hres_ens\", \"hres_ens_mean\", \"pangu\", \"graphcast\", \"fuxi\"]\n",
    "for lead_time in tqdm(lead_times):\n",
    "    hres_path = work_dir/\"Extremes/Extremes_tx24h_{}_{}_{}_{}d.nc\".format(\n",
    "        str(resolution).replace(\".\", \"\").ljust(3, \"0\"), str(year), \"hres\", str(lead_time).zfill(2))\n",
    "    hres_dataset = xr.open_dataset(hres_path)[\"events\"].load().astype(np.int8)\n",
    "    observe_events = tp24h_era5_extremes\n",
    "    observe_events_hres0 = tx24h_hres0_extremes\n",
    "    model_data = []\n",
    "    for model_name in tqdm(use_models, leave=False):\n",
    "        lead_time_data = []\n",
    "        \n",
    "        forecast_path = work_dir/\"Extremes/Extremes_tx24h_{}_{}_{}_{}d.nc\".format(\n",
    "            str(resolution).replace(\".\", \"\").ljust(3, \"0\"), str(year), model_name, str(lead_time).zfill(2))\n",
    "        forecast_dataset = xr.open_dataset(forecast_path)[\"events\"].load().astype(np.int8)\n",
    "        if model_name in [\"hres_ens\"]:\n",
    "            forecast_dataset = forecast_dataset/(50+1)\n",
    "            \n",
    "        forecast_data = forecast_dataset.sel(quantile=0.9)\n",
    "        time = forecast_data.time\n",
    "        hres_data = hres_dataset.sel(time=time, quantile=0.9)\n",
    "        observe_data = observe_events.sel(time=time, quantile=0.9)\n",
    "        observe_data_hres0 = observe_events_hres0.sel(time=time, quantile=0.9)\n",
    "        \n",
    "        \n",
    "        forecast_masked_arr = np.ma.masked_array(forecast_data, ~observe_data.data)\n",
    "        observe_masked_arr = np.ma.masked_array(observe_data.data.astype(int), ~observe_data.data)\n",
    "        hres_masked_arr = np.ma.masked_array(hres_data, ~observe_data.data)\n",
    "        observe_hres0_masked_arr = np.ma.masked_array(observe_data_hres0.data.astype(int), ~observe_data.data)\n",
    "        \n",
    "        sq_err_ai = (forecast_masked_arr - observe_masked_arr) **2\n",
    "        sq_err_hres = (hres_masked_arr - observe_masked_arr) **2\n",
    "        \n",
    "        diff_ai = sq_err_ai - sq_err_hres\n",
    "        \n",
    "        stats_values = np.apply_along_axis(calcu_stat, 0, diff_ai, time.data)\n",
    "        da = xr.DataArray(stats_values, \n",
    "                          coords={\"longitude\": forecast_data.longitude,\n",
    "                                  \"latitude\": forecast_data.latitude}, \n",
    "                          dims=[\"longitude\", \"latitude\"], name=\"significant\")\n",
    "        model_data.append(da)\n",
    "    model_data = xr.concat(model_data, dim=\"model_name\")\n",
    "    model_data[\"model_name\"] = use_models\n",
    "    \n",
    "    tx24h_results.append(model_data)\n",
    "tx24h_results = xr.concat(tx24h_results, dim=\"lead_time\")\n",
    "tx24h_results[\"lead_time\"] = lead_times    "
   ]
  },
  {
   "cell_type": "code",
   "execution_count": 8,
   "id": "0173fa19-11b5-4f17-8607-8ceacdc2323c",
   "metadata": {
    "tags": []
   },
   "outputs": [],
   "source": [
    "tx24h_results.to_netcdf(\"Significant_Grid_tx24h.nc\")"
   ]
  }
 ],
 "metadata": {
  "kernelspec": {
   "display_name": "geo",
   "language": "python",
   "name": "geo"
  },
  "language_info": {
   "codemirror_mode": {
    "name": "ipython",
    "version": 3
   },
   "file_extension": ".py",
   "mimetype": "text/x-python",
   "name": "python",
   "nbconvert_exporter": "python",
   "pygments_lexer": "ipython3",
   "version": "3.9.16"
  }
 },
 "nbformat": 4,
 "nbformat_minor": 5
}
